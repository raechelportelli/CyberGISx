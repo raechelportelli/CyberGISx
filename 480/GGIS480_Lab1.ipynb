{
 "cells": [
  {
   "cell_type": "markdown",
   "id": "541163c7",
   "metadata": {},
   "source": [
    "## GGIS 480 Spatial Analysis"
   ]
  },
  {
   "cell_type": "markdown",
   "id": "388abd85",
   "metadata": {},
   "source": [
    "### Lab 1. Introduction to Spatial Analysis with Python"
   ]
  },
  {
   "cell_type": "markdown",
   "id": "9e9419f6",
   "metadata": {},
   "source": [
    "<b> Learning Objectives:</b><br>\n",
    "    - Load geospatial packages in Python <br>\n",
    "    - Load, display, and evaluate geospatial data with Python <br>\n",
    "    - Identify key data attributes in Python <br>"
   ]
  },
  {
   "cell_type": "markdown",
   "id": "49029d2e",
   "metadata": {},
   "source": [
    "#### 1. Load geospatial packages in Python"
   ]
  },
  {
   "cell_type": "markdown",
   "id": "e9cbda28",
   "metadata": {},
   "source": [
    "To begin, please review the following article on Python modules: https://realpython.com/python-modules-packages/ This article provides a clear and concise overview of the concept of modules for Python. You will hear two terms throughout this semester, module and packge. A <b>module</b> is a single file containing python code and a <b>package</b> is a collection of modules that are organized in a directory hierarchy."
   ]
  },
  {
   "cell_type": "code",
   "execution_count": 4,
   "id": "3777c831",
   "metadata": {},
   "outputs": [
    {
     "ename": "ModuleNotFoundError",
     "evalue": "No module named 'geopandas'",
     "output_type": "error",
     "traceback": [
      "\u001b[1;31m---------------------------------------------------------------------------\u001b[0m",
      "\u001b[1;31mModuleNotFoundError\u001b[0m                       Traceback (most recent call last)",
      "\u001b[1;32m~\\AppData\\Local\\Temp\\ipykernel_32404\\3765592759.py\u001b[0m in \u001b[0;36m<cell line: 3>\u001b[1;34m()\u001b[0m\n\u001b[0;32m      1\u001b[0m \u001b[1;31m#To load a package in Python you will use the import command.\u001b[0m\u001b[1;33m\u001b[0m\u001b[1;33m\u001b[0m\u001b[0m\n\u001b[0;32m      2\u001b[0m \u001b[1;33m\u001b[0m\u001b[0m\n\u001b[1;32m----> 3\u001b[1;33m \u001b[1;32mimport\u001b[0m \u001b[0mgeopandas\u001b[0m\u001b[1;33m\u001b[0m\u001b[1;33m\u001b[0m\u001b[0m\n\u001b[0m\u001b[0;32m      4\u001b[0m \u001b[1;31m#This statement loads the geopandas module\u001b[0m\u001b[1;33m\u001b[0m\u001b[1;33m\u001b[0m\u001b[0m\n",
      "\u001b[1;31mModuleNotFoundError\u001b[0m: No module named 'geopandas'"
     ]
    }
   ],
   "source": [
    "#To load a package in Python you will use the import command. \n",
    "\n",
    "import geopandas \n",
    "#This statement loads the geopandas module"
   ]
  },
  {
   "cell_type": "markdown",
   "id": "7fc61292",
   "metadata": {},
   "source": [
    "The <b>Geopandas</b> module is designed to support geospatial data analysis, allowing for spatial operations on geometric data types. You can read more about the specifics of geopandas at https://geopandas.org/en/stable/"
   ]
  },
  {
   "cell_type": "code",
   "execution_count": null,
   "id": "7efeb6f1",
   "metadata": {},
   "outputs": [],
   "source": []
  }
 ],
 "metadata": {
  "kernelspec": {
   "display_name": "Python 3 (ipykernel)",
   "language": "python",
   "name": "python3"
  },
  "language_info": {
   "codemirror_mode": {
    "name": "ipython",
    "version": 3
   },
   "file_extension": ".py",
   "mimetype": "text/x-python",
   "name": "python",
   "nbconvert_exporter": "python",
   "pygments_lexer": "ipython3",
   "version": "3.9.16"
  }
 },
 "nbformat": 4,
 "nbformat_minor": 5
}
